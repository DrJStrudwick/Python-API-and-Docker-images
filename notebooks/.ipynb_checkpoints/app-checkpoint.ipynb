{
 "cells": [
  {
   "cell_type": "code",
   "execution_count": 8,
   "metadata": {},
   "outputs": [
    {
     "name": "stdout",
     "output_type": "stream",
     "text": [
      "Overwriting app.py\n"
     ]
    }
   ],
   "source": [
    "%%writefile app.py\n",
    "from flask import Flask,request, jsonify\n",
    "import traceback\n",
    "import pickle as p\n",
    "import pandas as pd\n",
    "import json\n",
    "\n",
    "app = Flask(__name__)\n",
    "\n",
    "@app.route('/predict', methods=['POST'])\n",
    "def predict():\n",
    "    if reg:\n",
    "        try:\n",
    "            json_ = request.json\n",
    "            query = pd.DataFrame(json_)\n",
    "            prediction = reg.predict(query)\n",
    "            return jsonify({'prediction': list(prediction)})\n",
    "        except:\n",
    "            return jsonify({'trace': traceback.format_exc()})\n",
    "    else:\n",
    "        print ('Train the model first')\n",
    "        return ('No model here to use')\n",
    "\n",
    "\n",
    "if __name__ == '__main__':\n",
    "    \n",
    "    reg = p.load(open('data/pipline.pickle', 'rb')) #if not in docker image use this line and comment out line below\n",
    "    #reg = p.load(open('pipline.pickle', 'rb'))\n",
    "    print('model loaded')\n",
    "    app.run(host='0.0.0.0',port=5000)"
   ]
  },
  {
   "cell_type": "code",
   "execution_count": null,
   "metadata": {},
   "outputs": [],
   "source": []
  }
 ],
 "metadata": {
  "kernelspec": {
   "display_name": "Python 3",
   "language": "python",
   "name": "python3"
  },
  "language_info": {
   "codemirror_mode": {
    "name": "ipython",
    "version": 3
   },
   "file_extension": ".py",
   "mimetype": "text/x-python",
   "name": "python",
   "nbconvert_exporter": "python",
   "pygments_lexer": "ipython3",
   "version": "3.8.3"
  }
 },
 "nbformat": 4,
 "nbformat_minor": 4
}
